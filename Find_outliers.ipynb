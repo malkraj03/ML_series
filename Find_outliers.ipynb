{
 "cells": [
  {
   "cell_type": "code",
   "execution_count": 1,
   "metadata": {},
   "outputs": [],
   "source": [
    "x = [11,10,12,14,12,15,14,13,15,102,12,14,17,19,107,10,13,12,15,101]"
   ]
  },
  {
   "cell_type": "code",
   "execution_count": 2,
   "metadata": {},
   "outputs": [],
   "source": [
    "import numpy as np"
   ]
  },
  {
   "cell_type": "code",
   "execution_count": 5,
   "metadata": {},
   "outputs": [
    {
     "name": "stdout",
     "output_type": "stream",
     "text": [
      "26.9\n",
      "32.19456475866695\n"
     ]
    }
   ],
   "source": [
    "#Using Z-score to detect outlier \n"
   ]
  },
  {
   "cell_type": "code",
   "execution_count": 14,
   "metadata": {},
   "outputs": [],
   "source": [
    "outlier = []\n",
    "def find_outlier(data):\n",
    "    thresold = 3 \n",
    "    mean = np.mean(data)\n",
    "    std = np.std(data)\n",
    "    for i in data:\n",
    "        val = i - mean/std\n",
    "        if np.abs(val) > thresold:\n",
    "            outlier.append(np.abs(val))\n",
    "    return outlier\n",
    "    "
   ]
  },
  {
   "cell_type": "code",
   "execution_count": 16,
   "metadata": {},
   "outputs": [
    {
     "data": {
      "text/plain": [
       "[10.164455236415073,\n",
       " 9.164455236415073,\n",
       " 11.164455236415073,\n",
       " 13.164455236415073,\n",
       " 11.164455236415073,\n",
       " 14.164455236415073,\n",
       " 13.164455236415073,\n",
       " 12.164455236415073,\n",
       " 14.164455236415073,\n",
       " 101.16445523641508,\n",
       " 11.164455236415073,\n",
       " 13.164455236415073,\n",
       " 16.164455236415073,\n",
       " 18.164455236415073,\n",
       " 106.16445523641508,\n",
       " 9.164455236415073,\n",
       " 12.164455236415073,\n",
       " 11.164455236415073,\n",
       " 14.164455236415073,\n",
       " 100.16445523641508,\n",
       " 10.164455236415073,\n",
       " 9.164455236415073,\n",
       " 11.164455236415073,\n",
       " 13.164455236415073,\n",
       " 11.164455236415073,\n",
       " 14.164455236415073,\n",
       " 13.164455236415073,\n",
       " 12.164455236415073,\n",
       " 14.164455236415073,\n",
       " 101.16445523641508,\n",
       " 11.164455236415073,\n",
       " 13.164455236415073,\n",
       " 16.164455236415073,\n",
       " 18.164455236415073,\n",
       " 106.16445523641508,\n",
       " 9.164455236415073,\n",
       " 12.164455236415073,\n",
       " 11.164455236415073,\n",
       " 14.164455236415073,\n",
       " 100.16445523641508]"
      ]
     },
     "execution_count": 16,
     "metadata": {},
     "output_type": "execute_result"
    }
   ],
   "source": [
    "res = find_outlier(x)\n",
    "res"
   ]
  },
  {
   "cell_type": "code",
   "execution_count": 18,
   "metadata": {},
   "outputs": [
    {
     "data": {
      "text/plain": [
       "[10,\n",
       " 10,\n",
       " 11,\n",
       " 12,\n",
       " 12,\n",
       " 12,\n",
       " 12,\n",
       " 13,\n",
       " 13,\n",
       " 14,\n",
       " 14,\n",
       " 14,\n",
       " 15,\n",
       " 15,\n",
       " 15,\n",
       " 17,\n",
       " 19,\n",
       " 101,\n",
       " 102,\n",
       " 107]"
      ]
     },
     "execution_count": 18,
     "metadata": {},
     "output_type": "execute_result"
    }
   ],
   "source": [
    "#Inter Quantile Range \n",
    "sorted(x)"
   ]
  },
  {
   "cell_type": "code",
   "execution_count": 20,
   "metadata": {},
   "outputs": [
    {
     "name": "stdout",
     "output_type": "stream",
     "text": [
      "12.0 15.5\n"
     ]
    }
   ],
   "source": [
    "quantile1,quantile2 = np.percentile(x,[25,75])\n",
    "print(quantile1,quantile2)"
   ]
  },
  {
   "cell_type": "code",
   "execution_count": 21,
   "metadata": {},
   "outputs": [
    {
     "data": {
      "text/plain": [
       "3.5"
      ]
     },
     "execution_count": 21,
     "metadata": {},
     "output_type": "execute_result"
    }
   ],
   "source": [
    "res = quantile2 - quantile1\n",
    "res"
   ]
  },
  {
   "cell_type": "code",
   "execution_count": 22,
   "metadata": {},
   "outputs": [
    {
     "name": "stdout",
     "output_type": "stream",
     "text": [
      "6.75 10.25\n"
     ]
    }
   ],
   "source": [
    "lower = quantile1 - (1.5*res)\n",
    "upper = quantile2 - (1.5*res)\n",
    "print(lower,upper)"
   ]
  },
  {
   "cell_type": "code",
   "execution_count": null,
   "metadata": {},
   "outputs": [],
   "source": []
  }
 ],
 "metadata": {
  "kernelspec": {
   "display_name": "Python 3",
   "language": "python",
   "name": "python3"
  },
  "language_info": {
   "codemirror_mode": {
    "name": "ipython",
    "version": 3
   },
   "file_extension": ".py",
   "mimetype": "text/x-python",
   "name": "python",
   "nbconvert_exporter": "python",
   "pygments_lexer": "ipython3",
   "version": "3.8.5"
  }
 },
 "nbformat": 4,
 "nbformat_minor": 4
}
